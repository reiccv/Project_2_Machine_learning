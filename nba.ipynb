{
 "cells": [
  {
   "cell_type": "markdown",
   "id": "2dc95be4-2a0b-47de-a622-d10bbb11809e",
   "metadata": {},
   "source": [
    "# NBA Machine Learning\n",
    "\n",
    "The objective for our project will be to create a deep learning model that will be able to predict future outcomes of a basketball season. \n",
    "This is done because this could be used as a viable tool in the process of sports betting. The model would function almost exactly the same as one that predicts stock price and signals when to buy or sell, the only difference is that it would predict a player's stat and would signal when to bet instead of buying/selling.\n",
    "\n",
    "Our project will use historical data from NBA teams such as previous season's records, shot making percentages, defensive ratings, \n",
    "and several others from the last ten seasons in a deep learning model to predict the next season's standings for each season and individual player statistics.\n"
   ]
  },
  {
   "cell_type": "code",
   "execution_count": null,
   "id": "bb019316-411d-450b-b270-1ceaf32dc30e",
   "metadata": {},
   "outputs": [],
   "source": []
  }
 ],
 "metadata": {
  "kernelspec": {
   "display_name": "Python 3 (ipykernel)",
   "language": "python",
   "name": "python3"
  },
  "language_info": {
   "codemirror_mode": {
    "name": "ipython",
    "version": 3
   },
   "file_extension": ".py",
   "mimetype": "text/x-python",
   "name": "python",
   "nbconvert_exporter": "python",
   "pygments_lexer": "ipython3",
   "version": "3.9.13"
  }
 },
 "nbformat": 4,
 "nbformat_minor": 5
}
