{
 "cells": [
  {
   "cell_type": "code",
   "execution_count": 1,
   "id": "59c21d89-b051-437c-8502-ef9963545641",
   "metadata": {},
   "outputs": [],
   "source": [
    "import pandas as pd\n",
    "from sklearn.model_selection import train_test_split\n",
    "from sklearn.linear_model import LinearRegression"
   ]
  },
  {
   "cell_type": "code",
   "execution_count": 3,
   "id": "af6f3409-76aa-48b9-9cdc-31aea4dd72bb",
   "metadata": {},
   "outputs": [],
   "source": [
    "data = pd.read_csv('Resources/jokic_2023.csv')"
   ]
  },
  {
   "cell_type": "code",
   "execution_count": null,
   "id": "a1d1bf67-9698-4575-a2c9-adba9658df55",
   "metadata": {},
   "outputs": [],
   "source": [
    "#Feature Selection\n",
    "# Select relevant columns/features for prediction\n",
    "features = ['points', 'rebounds', 'assists']\n",
    "\n",
    "#Data Preprocessing\n",
    "# Remove missing values and unessecary data, cleaning data, etc"
   ]
  },
  {
   "cell_type": "code",
   "execution_count": null,
   "id": "d90ec870-3519-4ff6-b0fc-6e1091f58dbe",
   "metadata": {},
   "outputs": [],
   "source": [
    "#Model Training\n",
    "# Split data into training and testing sets\n",
    "train_data, test_data = train_test_split(data, test_size=0.2, random_state=42)"
   ]
  },
  {
   "cell_type": "code",
   "execution_count": null,
   "id": "b31bdf28-6ffa-4254-93be-d51a8c4d267d",
   "metadata": {},
   "outputs": [],
   "source": [
    "# Separate features (X) and target variable (y)\n",
    "X_train = train_data[features]\n",
    "y_train = train_data['over_under']\n",
    "\n",
    "# Initialize and train the model\n",
    "model = LinearRegression()\n",
    "model.fit(X_train, y_train)"
   ]
  },
  {
   "cell_type": "code",
   "execution_count": null,
   "id": "076df6e0-b4dd-40e0-b4e8-d4e125d5f501",
   "metadata": {},
   "outputs": [],
   "source": [
    "#Prediction\n",
    "new_data = pd.DataFrame({'points': [20], 'rebounds': [10], 'assists': [5]})\n",
    "\n",
    "# Make prediction using the trained model\n",
    "prediction = model.predict(new_data)"
   ]
  },
  {
   "cell_type": "code",
   "execution_count": null,
   "id": "0fc465d0-5710-4742-b874-ba925502c6a3",
   "metadata": {},
   "outputs": [],
   "source": [
    "# Betting Strategy\n",
    "# Define rules or thresholds to decide whether to bet on over or under\n",
    "if prediction > 25:\n",
    "    bet = 'over'\n",
    "else:\n",
    "    bet = 'under'"
   ]
  },
  {
   "cell_type": "code",
   "execution_count": null,
   "id": "32a5e98e-9ad3-4698-baf9-0f58ee67fe25",
   "metadata": {},
   "outputs": [],
   "source": [
    "#Betting Bot Implementation\n",
    "\n",
    "#Evaluation\n",
    "#evaluate and compare models accuracy"
   ]
  }
 ],
 "metadata": {
  "kernelspec": {
   "display_name": "Python 3 (ipykernel)",
   "language": "python",
   "name": "python3"
  },
  "language_info": {
   "codemirror_mode": {
    "name": "ipython",
    "version": 3
   },
   "file_extension": ".py",
   "mimetype": "text/x-python",
   "name": "python",
   "nbconvert_exporter": "python",
   "pygments_lexer": "ipython3",
   "version": "3.9.13"
  }
 },
 "nbformat": 4,
 "nbformat_minor": 5
}
